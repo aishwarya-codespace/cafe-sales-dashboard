{
 "cells": [
  {
   "cell_type": "code",
   "execution_count": 13,
   "id": "6b9facb2",
   "metadata": {},
   "outputs": [],
   "source": [
    "import pandas as pd\n",
    "import numpy as np\n"
   ]
  },
  {
   "cell_type": "markdown",
   "id": "e205ef17",
   "metadata": {},
   "source": [
    "Read the csv file"
   ]
  },
  {
   "cell_type": "code",
   "execution_count": 14,
   "id": "5afcb641",
   "metadata": {},
   "outputs": [],
   "source": [
    "df = pd.read_csv(\"raw_cafe_sales.csv\")"
   ]
  },
  {
   "cell_type": "code",
   "execution_count": 15,
   "id": "40939d96",
   "metadata": {},
   "outputs": [
    {
     "name": "stdout",
     "output_type": "stream",
     "text": [
      "(10000, 8)\n",
      "<class 'pandas.core.frame.DataFrame'>\n",
      "RangeIndex: 10000 entries, 0 to 9999\n",
      "Data columns (total 8 columns):\n",
      " #   Column            Non-Null Count  Dtype \n",
      "---  ------            --------------  ----- \n",
      " 0   Transaction ID    10000 non-null  object\n",
      " 1   Item              9667 non-null   object\n",
      " 2   Quantity          9862 non-null   object\n",
      " 3   Price Per Unit    9821 non-null   object\n",
      " 4   Total Spent       9827 non-null   object\n",
      " 5   Payment Method    7421 non-null   object\n",
      " 6   Location          6735 non-null   object\n",
      " 7   Transaction Date  9841 non-null   object\n",
      "dtypes: object(8)\n",
      "memory usage: 625.1+ KB\n",
      "None\n",
      "  Transaction ID    Item Quantity Price Per Unit Total Spent  Payment Method  \\\n",
      "0    TXN_1961373  Coffee        2            2.0         4.0     Credit Card   \n",
      "1    TXN_4977031    Cake        4            3.0        12.0            Cash   \n",
      "2    TXN_4271903  Cookie        4            1.0       ERROR     Credit Card   \n",
      "3    TXN_7034554   Salad        2            5.0        10.0         UNKNOWN   \n",
      "4    TXN_3160411  Coffee        2            2.0         4.0  Digital Wallet   \n",
      "\n",
      "   Location Transaction Date  \n",
      "0  Takeaway       2023-09-08  \n",
      "1  In-store       2023-05-16  \n",
      "2  In-store       2023-07-19  \n",
      "3   UNKNOWN       2023-04-27  \n",
      "4  In-store       2023-06-11  \n",
      "Transaction ID         0\n",
      "Item                 333\n",
      "Quantity             138\n",
      "Price Per Unit       179\n",
      "Total Spent          173\n",
      "Payment Method      2579\n",
      "Location            3265\n",
      "Transaction Date     159\n",
      "dtype: int64\n"
     ]
    }
   ],
   "source": [
    "print(df.shape)\n",
    "print(df.info())\n",
    "print(df.head())\n",
    "print(df.isna().sum())\n"
   ]
  },
  {
   "cell_type": "code",
   "execution_count": 16,
   "id": "04cd5011",
   "metadata": {},
   "outputs": [
    {
     "name": "stdout",
     "output_type": "stream",
     "text": [
      "     Transaction ID      Item Quantity Price Per Unit Total Spent  \\\n",
      "0       TXN_1961373    Coffee        2            2.0         4.0   \n",
      "1       TXN_4977031      Cake        4            3.0        12.0   \n",
      "2       TXN_4271903    Cookie        4            1.0       ERROR   \n",
      "3       TXN_7034554     Salad        2            5.0        10.0   \n",
      "4       TXN_3160411    Coffee        2            2.0         4.0   \n",
      "...             ...       ...      ...            ...         ...   \n",
      "9995    TXN_7672686    Coffee        2            2.0         4.0   \n",
      "9996    TXN_9659401       NaN        3            NaN         3.0   \n",
      "9997    TXN_5255387    Coffee        4            2.0         8.0   \n",
      "9998    TXN_7695629    Cookie        3            NaN         3.0   \n",
      "9999    TXN_6170729  Sandwich        3            4.0        12.0   \n",
      "\n",
      "      Payment Method  Location Transaction Date  \n",
      "0        Credit Card  Takeaway       2023-09-08  \n",
      "1               Cash  In-store       2023-05-16  \n",
      "2        Credit Card  In-store       2023-07-19  \n",
      "3            UNKNOWN   UNKNOWN       2023-04-27  \n",
      "4     Digital Wallet  In-store       2023-06-11  \n",
      "...              ...       ...              ...  \n",
      "9995             NaN   UNKNOWN       2023-08-30  \n",
      "9996  Digital Wallet       NaN       2023-06-02  \n",
      "9997  Digital Wallet       NaN       2023-03-02  \n",
      "9998  Digital Wallet       NaN       2023-12-02  \n",
      "9999            Cash  In-store       2023-11-07  \n",
      "\n",
      "[10000 rows x 8 columns]\n"
     ]
    }
   ],
   "source": [
    "print(df)"
   ]
  },
  {
   "cell_type": "markdown",
   "id": "782af100",
   "metadata": {},
   "source": [
    "Remove the duplicates"
   ]
  },
  {
   "cell_type": "code",
   "execution_count": 17,
   "id": "4d830590",
   "metadata": {},
   "outputs": [
    {
     "name": "stdout",
     "output_type": "stream",
     "text": [
      "     Transaction ID      Item Quantity Price Per Unit Total Spent  \\\n",
      "0       TXN_1961373    Coffee        2            2.0         4.0   \n",
      "1       TXN_4977031      Cake        4            3.0        12.0   \n",
      "2       TXN_4271903    Cookie        4            1.0       ERROR   \n",
      "3       TXN_7034554     Salad        2            5.0        10.0   \n",
      "4       TXN_3160411    Coffee        2            2.0         4.0   \n",
      "...             ...       ...      ...            ...         ...   \n",
      "9995    TXN_7672686    Coffee        2            2.0         4.0   \n",
      "9996    TXN_9659401       NaN        3            NaN         3.0   \n",
      "9997    TXN_5255387    Coffee        4            2.0         8.0   \n",
      "9998    TXN_7695629    Cookie        3            NaN         3.0   \n",
      "9999    TXN_6170729  Sandwich        3            4.0        12.0   \n",
      "\n",
      "      Payment Method  Location Transaction Date  \n",
      "0        Credit Card  Takeaway       2023-09-08  \n",
      "1               Cash  In-store       2023-05-16  \n",
      "2        Credit Card  In-store       2023-07-19  \n",
      "3            UNKNOWN   UNKNOWN       2023-04-27  \n",
      "4     Digital Wallet  In-store       2023-06-11  \n",
      "...              ...       ...              ...  \n",
      "9995             NaN   UNKNOWN       2023-08-30  \n",
      "9996  Digital Wallet       NaN       2023-06-02  \n",
      "9997  Digital Wallet       NaN       2023-03-02  \n",
      "9998  Digital Wallet       NaN       2023-12-02  \n",
      "9999            Cash  In-store       2023-11-07  \n",
      "\n",
      "[10000 rows x 8 columns]\n"
     ]
    }
   ],
   "source": [
    "df = df.drop_duplicates()\n",
    "print(df)"
   ]
  },
  {
   "cell_type": "markdown",
   "id": "d035c824",
   "metadata": {},
   "source": [
    "Column names"
   ]
  },
  {
   "cell_type": "code",
   "execution_count": 18,
   "id": "35af2731",
   "metadata": {},
   "outputs": [
    {
     "name": "stdout",
     "output_type": "stream",
     "text": [
      "     transaction_id      item quantity price_per_unit total_spent  \\\n",
      "0       TXN_1961373    Coffee        2            2.0         4.0   \n",
      "1       TXN_4977031      Cake        4            3.0        12.0   \n",
      "2       TXN_4271903    Cookie        4            1.0       ERROR   \n",
      "3       TXN_7034554     Salad        2            5.0        10.0   \n",
      "4       TXN_3160411    Coffee        2            2.0         4.0   \n",
      "...             ...       ...      ...            ...         ...   \n",
      "9995    TXN_7672686    Coffee        2            2.0         4.0   \n",
      "9996    TXN_9659401       NaN        3            NaN         3.0   \n",
      "9997    TXN_5255387    Coffee        4            2.0         8.0   \n",
      "9998    TXN_7695629    Cookie        3            NaN         3.0   \n",
      "9999    TXN_6170729  Sandwich        3            4.0        12.0   \n",
      "\n",
      "      payment_method  location transaction_date  \n",
      "0        Credit Card  Takeaway       2023-09-08  \n",
      "1               Cash  In-store       2023-05-16  \n",
      "2        Credit Card  In-store       2023-07-19  \n",
      "3            UNKNOWN   UNKNOWN       2023-04-27  \n",
      "4     Digital Wallet  In-store       2023-06-11  \n",
      "...              ...       ...              ...  \n",
      "9995             NaN   UNKNOWN       2023-08-30  \n",
      "9996  Digital Wallet       NaN       2023-06-02  \n",
      "9997  Digital Wallet       NaN       2023-03-02  \n",
      "9998  Digital Wallet       NaN       2023-12-02  \n",
      "9999            Cash  In-store       2023-11-07  \n",
      "\n",
      "[10000 rows x 8 columns]\n"
     ]
    }
   ],
   "source": [
    "df.columns = df.columns.str.strip().str.lower().str.replace(\" \", \"_\")\n",
    "print(df)\n"
   ]
  },
  {
   "cell_type": "markdown",
   "id": "6ef674a3",
   "metadata": {},
   "source": [
    "Rename Column Names"
   ]
  },
  {
   "cell_type": "code",
   "execution_count": 19,
   "id": "fc84b8cc",
   "metadata": {},
   "outputs": [],
   "source": [
    "df = df.rename(columns={\n",
    "    \"price_per_unit\": \"unit_price\",\n",
    "    \"total_spent\": \"total_sales\"\n",
    "})"
   ]
  },
  {
   "cell_type": "markdown",
   "id": "d2f91588",
   "metadata": {},
   "source": [
    "convert the datatypes"
   ]
  },
  {
   "cell_type": "code",
   "execution_count": 20,
   "id": "fb6078b7",
   "metadata": {},
   "outputs": [],
   "source": [
    "# Convert Quantity and Price_per_unit to numeric\n",
    "for col in [\"quantity\", \"unit_price\",\"total_sales\"]:\n",
    "    if col in df.columns:\n",
    "        df[col] = pd.to_numeric(df[col], errors=\"coerce\")\n",
    "\n",
    " #Convert date columns \n",
    "if 'transaction_date' in df.columns: \n",
    "    df['transaction_date'] = pd.to_datetime(df['transaction_date'], errors='coerce')\n",
    "\n",
    "\n",
    "df['transaction_date'] = df['transaction_date'].replace(' ', 'NULL')\n",
    "\n"
   ]
  },
  {
   "cell_type": "markdown",
   "id": "5e346e8e",
   "metadata": {},
   "source": [
    "Fill missing values"
   ]
  },
  {
   "cell_type": "code",
   "execution_count": 21,
   "id": "5f764873",
   "metadata": {},
   "outputs": [
    {
     "name": "stdout",
     "output_type": "stream",
     "text": [
      "     transaction_id      item  quantity  unit_price  total_sales  \\\n",
      "0       TXN_1961373    Coffee       2.0         2.0          4.0   \n",
      "1       TXN_4977031      Cake       4.0         3.0         12.0   \n",
      "2       TXN_4271903    Cookie       4.0         1.0          0.0   \n",
      "3       TXN_7034554     Salad       2.0         5.0         10.0   \n",
      "4       TXN_3160411    Coffee       2.0         2.0          4.0   \n",
      "...             ...       ...       ...         ...          ...   \n",
      "9995    TXN_7672686    Coffee       2.0         2.0          4.0   \n",
      "9996    TXN_9659401   UNKNOWN       3.0         0.0          3.0   \n",
      "9997    TXN_5255387    Coffee       4.0         2.0          8.0   \n",
      "9998    TXN_7695629    Cookie       3.0         0.0          3.0   \n",
      "9999    TXN_6170729  Sandwich       3.0         4.0         12.0   \n",
      "\n",
      "      payment_method  location transaction_date  \n",
      "0        Credit Card  Takeaway       2023-09-08  \n",
      "1               Cash  In-store       2023-05-16  \n",
      "2        Credit Card  In-store       2023-07-19  \n",
      "3            UNKNOWN   UNKNOWN       2023-04-27  \n",
      "4     Digital Wallet  In-store       2023-06-11  \n",
      "...              ...       ...              ...  \n",
      "9995         UNKNOWN   UNKNOWN       2023-08-30  \n",
      "9996  Digital Wallet   UNKNOWN       2023-06-02  \n",
      "9997  Digital Wallet   UNKNOWN       2023-03-02  \n",
      "9998  Digital Wallet   UNKNOWN       2023-12-02  \n",
      "9999            Cash  In-store       2023-11-07  \n",
      "\n",
      "[10000 rows x 8 columns]\n"
     ]
    }
   ],
   "source": [
    "\n",
    "\n",
    "df.replace('ERROR', pd.NA, inplace=True)\n",
    "# Fill missing numeric with 0\n",
    "for col in df.select_dtypes(include=\"number\").columns:\n",
    "    df[col] = df[col].fillna(0)\n",
    "\n",
    "# Fill missing text with 'Unknown'\n",
    "for col in df.select_dtypes(include=\"object\").columns:\n",
    "    df[col]=df[col].fillna(\"UNKNOWN\")\n",
    "    \n",
    "\n",
    "\n",
    "\n",
    "print(df)"
   ]
  },
  {
   "cell_type": "markdown",
   "id": "a03e1dd8",
   "metadata": {},
   "source": [
    "Find unique values"
   ]
  },
  {
   "cell_type": "code",
   "execution_count": 22,
   "id": "2d72b1f5",
   "metadata": {},
   "outputs": [
    {
     "name": "stdout",
     "output_type": "stream",
     "text": [
      "\n",
      "Column: transaction_id\n",
      "['TXN_1961373' 'TXN_4977031' 'TXN_4271903' ... 'TXN_5255387' 'TXN_7695629'\n",
      " 'TXN_6170729']\n",
      "\n",
      "Column: item\n",
      "['Coffee' 'Cake' 'Cookie' 'Salad' 'Smoothie' 'UNKNOWN' 'Sandwich' 'Juice'\n",
      " 'Tea']\n",
      "\n",
      "Column: quantity\n",
      "[2. 4. 5. 3. 1. 0.]\n",
      "\n",
      "Column: unit_price\n",
      "[2.  3.  1.  5.  4.  1.5 0. ]\n",
      "\n",
      "Column: total_sales\n",
      "[ 4.  12.   0.  10.  20.   9.  16.  15.  25.   8.   5.   3.   6.   2.\n",
      "  1.   7.5  4.5  1.5]\n",
      "\n",
      "Column: payment_method\n",
      "['Credit Card' 'Cash' 'UNKNOWN' 'Digital Wallet']\n",
      "\n",
      "Column: location\n",
      "['Takeaway' 'In-store' 'UNKNOWN']\n",
      "\n",
      "Column: transaction_date\n",
      "<DatetimeArray>\n",
      "['2023-09-08 00:00:00', '2023-05-16 00:00:00', '2023-07-19 00:00:00',\n",
      " '2023-04-27 00:00:00', '2023-06-11 00:00:00', '2023-03-31 00:00:00',\n",
      " '2023-10-06 00:00:00', '2023-10-28 00:00:00', '2023-07-28 00:00:00',\n",
      " '2023-12-31 00:00:00',\n",
      " ...\n",
      " '2023-08-01 00:00:00', '2023-01-20 00:00:00', '2023-11-11 00:00:00',\n",
      " '2023-02-13 00:00:00', '2023-07-30 00:00:00', '2023-02-17 00:00:00',\n",
      " '2023-05-20 00:00:00', '2023-11-05 00:00:00', '2023-03-27 00:00:00',\n",
      " '2023-07-03 00:00:00']\n",
      "Length: 366, dtype: datetime64[ns]\n"
     ]
    }
   ],
   "source": [
    "for col in df.columns:\n",
    "    print(f\"\\nColumn: {col}\")\n",
    "    print(df[col].unique())\n"
   ]
  },
  {
   "cell_type": "markdown",
   "id": "4a7062ca",
   "metadata": {},
   "source": [
    "Clean Text Columns"
   ]
  },
  {
   "cell_type": "code",
   "execution_count": 23,
   "id": "1b0fb5d1",
   "metadata": {},
   "outputs": [
    {
     "name": "stdout",
     "output_type": "stream",
     "text": [
      "     transaction_id      item  quantity  unit_price  total_sales  \\\n",
      "0       TXN_1961373    Coffee       2.0         2.0          4.0   \n",
      "1       TXN_4977031      Cake       4.0         3.0         12.0   \n",
      "2       TXN_4271903    Cookie       4.0         1.0          0.0   \n",
      "3       TXN_7034554     Salad       2.0         5.0         10.0   \n",
      "4       TXN_3160411    Coffee       2.0         2.0          4.0   \n",
      "...             ...       ...       ...         ...          ...   \n",
      "9995    TXN_7672686    Coffee       2.0         2.0          4.0   \n",
      "9996    TXN_9659401   UNKNOWN       3.0         0.0          3.0   \n",
      "9997    TXN_5255387    Coffee       4.0         2.0          8.0   \n",
      "9998    TXN_7695629    Cookie       3.0         0.0          3.0   \n",
      "9999    TXN_6170729  Sandwich       3.0         4.0         12.0   \n",
      "\n",
      "      payment_method  location transaction_date  \n",
      "0        Credit Card  Takeaway       2023-09-08  \n",
      "1               Cash  In-store       2023-05-16  \n",
      "2        Credit Card  In-store       2023-07-19  \n",
      "3            UNKNOWN   UNKNOWN       2023-04-27  \n",
      "4     Digital Wallet  In-store       2023-06-11  \n",
      "...              ...       ...              ...  \n",
      "9995         UNKNOWN   UNKNOWN       2023-08-30  \n",
      "9996  Digital Wallet   UNKNOWN       2023-06-02  \n",
      "9997  Digital Wallet   UNKNOWN       2023-03-02  \n",
      "9998  Digital Wallet   UNKNOWN       2023-12-02  \n",
      "9999            Cash  In-store       2023-11-07  \n",
      "\n",
      "[10000 rows x 8 columns]\n"
     ]
    }
   ],
   "source": [
    "for col in df.select_dtypes(include=\"object\").columns:\n",
    "    df[col] = df[col].str.strip()\n",
    "print(df)"
   ]
  },
  {
   "cell_type": "markdown",
   "id": "57485df8",
   "metadata": {},
   "source": [
    "Save cleaned data"
   ]
  },
  {
   "cell_type": "code",
   "execution_count": 24,
   "id": "c59c6832",
   "metadata": {},
   "outputs": [],
   "source": [
    "# Export to CSV, replacing NaT / NaN with 'NULL'\n",
    "df.to_csv(\"cleaned_cafe_sales.csv\", index=False)\n",
    "\n"
   ]
  }
 ],
 "metadata": {
  "kernelspec": {
   "display_name": ".venv",
   "language": "python",
   "name": "python3"
  },
  "language_info": {
   "codemirror_mode": {
    "name": "ipython",
    "version": 3
   },
   "file_extension": ".py",
   "mimetype": "text/x-python",
   "name": "python",
   "nbconvert_exporter": "python",
   "pygments_lexer": "ipython3",
   "version": "3.13.7"
  }
 },
 "nbformat": 4,
 "nbformat_minor": 5
}
